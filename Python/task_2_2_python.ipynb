{
 "cells": [
  {
   "cell_type": "code",
   "execution_count": 3,
   "id": "c29526d0",
   "metadata": {},
   "outputs": [],
   "source": [
    "# ## Задание 2.2\n",
    "#\n",
    "# Есть два списка чисел: цены товаров в одном магазине и цены товаров в другом магазине.\n",
    "#\n",
    "# Нужно сравнить средние (среднее берётся по всем товарам) цены, минимальные цены и максимальные  в магазинах.\n",
    "# Если первое зачение меньше надо вернуть 'First', если второе, то 'Second', а если равны, то 'Equal'\n",
    "#\n",
    "# Например, function_2_2([1, 2, 3], [2, 2, 2])\n",
    "#\n",
    "# В первом магазине среднее значение 2, минимальное 1, максимальное 3. А во втором среднее 2, минимальное 2\n",
    "# и максимальное 2.\n",
    "#\n",
    "# Результаты сравнения $2 = 2,~1 < 2,~3 > 2$, поэтому нужно вернуть  ('Equal', 'First', 'Second')"
   ]
  },
  {
   "cell_type": "code",
   "execution_count": 4,
   "id": "1b09e3fb",
   "metadata": {},
   "outputs": [],
   "source": [
    "def function_2_2(list1, list2):\n",
    "    # Создаем пустой список\n",
    "    lst = []\n",
    "    # Если сумма первого списка деленного на его длину больше суммы второго списка деленного на его длину\n",
    "    if sum(list1) / len(list1) > sum(list2) / len(list2):\n",
    "        # Создается переменная result со значением \"Second\"\n",
    "        result_1 = \"Second\"\n",
    "        # Если  же сумма первого списка деленного на его длину меньше суммы второго списка деленного на его длину\n",
    "    elif sum(list1) / len(list1) < sum(list2) / len(list2):\n",
    "        # Создается переменная result со значением \"First\"\n",
    "        result_1 = \"First\"\n",
    "        # Значит принимает значение \"Equal\"\n",
    "    elif sum(list1) / len(list1) == sum(list2) / len(list2):\n",
    "        # Создается переменная result со значением \"Equal\"\n",
    "        result_1 = \"Equal\"\n",
    "    # В зависимости от сработанного условия переменаая result добавляется в lst\n",
    "    lst.append(result_1)\n",
    "    # Если минимальное значение в list1 меньше чем в list2 переменная result принимает значение \"First\"\n",
    "    if min(list1) < min(list2):\n",
    "        result_2 = \"First\"\n",
    "    elif min(list1) > min(list2):\n",
    "    # Если минимальное значение в list1 меньше чем в list2 переменная result принимает значение \"First\"\n",
    "        result_2 = \"Second\"\n",
    "    # Если значение list1 и list2 равны создается переменна result со значением \"Equal\"\n",
    "    elif min(list1) == min(list2):\n",
    "        result_2 = \"Equal\"\n",
    "    #По результатам условий result_2 добавляется в lst\n",
    "    lst.append(result_2)\n",
    "    #Если максимальное значение в list1 больше максимального значения list2\n",
    "    if max(list1) > max(list2):\n",
    "    #Создается переменная result_3 со значение \"Second\"\n",
    "        result_3 = \"Second\"\n",
    "    #Если максимальное значение в list1 меньше максимального значения list2\n",
    "    elif max(list1) < max(list2):\n",
    "    # Создается переменная result_3 со значение \"First\"\n",
    "        result_3 = \"First\"\n",
    "    #Если значения равны\n",
    "    elif max(list1) == max(list2):\n",
    "    #Создается переменная result_3 со значением \"Equal\"\n",
    "        result_3 = \"Equal\"\n",
    "    #По выполнении всех условий result_3 добавляется в lst и функция возращает кортеж lst\n",
    "    lst.append(result_3)\n",
    "    return tuple(lst)"
   ]
  },
  {
   "cell_type": "code",
   "execution_count": 5,
   "id": "a17e3f6a",
   "metadata": {},
   "outputs": [
    {
     "data": {
      "text/plain": [
       "True"
      ]
     },
     "execution_count": 5,
     "metadata": {},
     "output_type": "execute_result"
    }
   ],
   "source": [
    "function_2_2([1, 2, 3], [2, 2, 2]) == ('Equal', 'First', 'Second')"
   ]
  },
  {
   "cell_type": "code",
   "execution_count": 6,
   "id": "34dc3ef1",
   "metadata": {},
   "outputs": [
    {
     "data": {
      "text/plain": [
       "True"
      ]
     },
     "execution_count": 6,
     "metadata": {},
     "output_type": "execute_result"
    }
   ],
   "source": [
    "function_2_2([2, 2, 1], [4]) ==('First', 'First', 'First')"
   ]
  },
  {
   "cell_type": "code",
   "execution_count": 7,
   "id": "f6a87cb0",
   "metadata": {},
   "outputs": [
    {
     "data": {
      "text/plain": [
       "True"
      ]
     },
     "execution_count": 7,
     "metadata": {},
     "output_type": "execute_result"
    }
   ],
   "source": [
    "function_2_2([3, 5], [2, 4, 6]) == ('Equal', 'Second', 'First')"
   ]
  },
  {
   "cell_type": "code",
   "execution_count": 8,
   "id": "a3a573b7",
   "metadata": {},
   "outputs": [
    {
     "data": {
      "text/plain": [
       "True"
      ]
     },
     "execution_count": 8,
     "metadata": {},
     "output_type": "execute_result"
    }
   ],
   "source": [
    "function_2_2([1, 7], [2, 4, 7]) == ('First', 'First', 'Equal')"
   ]
  },
  {
   "cell_type": "code",
   "execution_count": 9,
   "id": "892bb5a9",
   "metadata": {},
   "outputs": [
    {
     "name": "stdout",
     "output_type": "stream",
     "text": [
      "Second,First,Second\n"
     ]
    }
   ],
   "source": [
    "import random\n",
    "\n",
    "random.seed(47)\n",
    "print(','.join(function_2_2(\n",
    "    [random.randint(0, 100000) for _ in range(1000)],\n",
    "    [random.randint(0, 100000) for _ in range(1000)]\n",
    ")))"
   ]
  },
  {
   "cell_type": "code",
   "execution_count": null,
   "id": "398c9d3c",
   "metadata": {},
   "outputs": [],
   "source": []
  }
 ],
 "metadata": {
  "kernelspec": {
   "display_name": "Python 3",
   "language": "python",
   "name": "python3"
  },
  "language_info": {
   "codemirror_mode": {
    "name": "ipython",
    "version": 3
   },
   "file_extension": ".py",
   "mimetype": "text/x-python",
   "name": "python",
   "nbconvert_exporter": "python",
   "pygments_lexer": "ipython3",
   "version": "3.8.8"
  }
 },
 "nbformat": 4,
 "nbformat_minor": 5
}
